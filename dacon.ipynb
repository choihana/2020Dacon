{
 "cells": [
  {
   "cell_type": "code",
   "execution_count": 11,
   "metadata": {},
   "outputs": [],
   "source": [
    "import pandas as pd\n",
    "import numpy as np\n",
    "import sklearn\n",
    "from sklearn.ensemble import RandomForestRegressor\n",
    "from sklearn.preprocessing import LabelEncoder\n",
    "import matplotlib.pyplot as plt\n",
    "%matplotlib inline\n",
    "from IPython.display import set_matplotlib_formats\n",
    "import seaborn as sns\n",
    "import missingno as msno\n",
    "from statistics import mode\n",
    "# Mac OS를 이용하고 있기 떄문에 AppleGothic을 설정했습니다.\n",
    "# 윈도우의 경우 다른 폰트를 사용해주셔야 합니다. 나눔폰트가 있는 경우 'NanumGothic' 없는 경우에는 'Malgun Gothic'을 사용해주세요.\n",
    "plt.rc('font', family='Malgun Gothic')\n",
    "# mpl.rc('font', family='NanumGothic')\n",
    "\n",
    "# 별도로, 폰트를 바꿀 경우 마이너스가 표시되지 않는 경우도 있는데 이를 막아주는 코드입니다.\n",
    "plt.rc('axes', unicode_minus=False)\n",
    "\n",
    "# retina 옵션을 통해 해상도를 올립니다.\n",
    "set_matplotlib_formats('retina')"
   ]
  },
  {
   "cell_type": "code",
   "execution_count": 40,
   "metadata": {},
   "outputs": [],
   "source": [
    "data=pd.read_csv(\"../../data/201901-202003.csv\",encoding='utf-8')\n",
    "sub=pd.read_csv(\"../../data/submission.csv\",encoding='utf-8')"
   ]
  },
  {
   "cell_type": "code",
   "execution_count": 41,
   "metadata": {},
   "outputs": [
    {
     "data": {
      "text/plain": [
       "REG_YYMM             0\n",
       "CARD_SIDO_NM         0\n",
       "CARD_CCG_NM      87213\n",
       "STD_CLSS_NM          0\n",
       "HOM_SIDO_NM          0\n",
       "HOM_CCG_NM      147787\n",
       "AGE                  0\n",
       "SEX_CTGO_CD          0\n",
       "FLC                  0\n",
       "CSTMR_CNT            0\n",
       "AMT                  0\n",
       "CNT                  0\n",
       "dtype: int64"
      ]
     },
     "execution_count": 41,
     "metadata": {},
     "output_type": "execute_result"
    }
   ],
   "source": [
    "data.isnull().sum()"
   ]
  },
  {
   "cell_type": "markdown",
   "metadata": {},
   "source": [
    "### Null값처리\n",
    "\n",
    "1) 결제자 거주지는 연관관계가 떨어지기 때문에, drop\n",
    "\n",
    "2) 결제 주소지는 연관관계가 높으므로 살펴보자"
   ]
  },
  {
   "cell_type": "code",
   "execution_count": 42,
   "metadata": {},
   "outputs": [],
   "source": [
    "data=data[~data['HOM_CCG_NM'].isnull()]"
   ]
  },
  {
   "cell_type": "markdown",
   "metadata": {},
   "source": [
    "각 결제 주소지 시도 별로 가장 많이 발생하는 군 추출하여 null값에 해당 값으로 대체하려고 했으나\n",
    "\n",
    "세종시에서 값이 없는 것을 확인"
   ]
  },
  {
   "cell_type": "code",
   "execution_count": 43,
   "metadata": {
    "scrolled": true
   },
   "outputs": [
    {
     "data": {
      "text/html": [
       "<div>\n",
       "<style scoped>\n",
       "    .dataframe tbody tr th:only-of-type {\n",
       "        vertical-align: middle;\n",
       "    }\n",
       "\n",
       "    .dataframe tbody tr th {\n",
       "        vertical-align: top;\n",
       "    }\n",
       "\n",
       "    .dataframe thead th {\n",
       "        text-align: right;\n",
       "    }\n",
       "</style>\n",
       "<table border=\"1\" class=\"dataframe\">\n",
       "  <thead>\n",
       "    <tr style=\"text-align: right;\">\n",
       "      <th></th>\n",
       "      <th>CARD_CCG_NM</th>\n",
       "    </tr>\n",
       "    <tr>\n",
       "      <th>CARD_SIDO_NM</th>\n",
       "      <th></th>\n",
       "    </tr>\n",
       "  </thead>\n",
       "  <tbody>\n",
       "    <tr>\n",
       "      <td>강원</td>\n",
       "      <td>강릉시</td>\n",
       "    </tr>\n",
       "    <tr>\n",
       "      <td>경기</td>\n",
       "      <td>성남시 분당구</td>\n",
       "    </tr>\n",
       "    <tr>\n",
       "      <td>경남</td>\n",
       "      <td>김해시</td>\n",
       "    </tr>\n",
       "    <tr>\n",
       "      <td>경북</td>\n",
       "      <td>경주시</td>\n",
       "    </tr>\n",
       "    <tr>\n",
       "      <td>광주</td>\n",
       "      <td>서구</td>\n",
       "    </tr>\n",
       "    <tr>\n",
       "      <td>대구</td>\n",
       "      <td>수성구</td>\n",
       "    </tr>\n",
       "    <tr>\n",
       "      <td>대전</td>\n",
       "      <td>유성구</td>\n",
       "    </tr>\n",
       "    <tr>\n",
       "      <td>부산</td>\n",
       "      <td>해운대구</td>\n",
       "    </tr>\n",
       "    <tr>\n",
       "      <td>서울</td>\n",
       "      <td>중구</td>\n",
       "    </tr>\n",
       "    <tr>\n",
       "      <td>세종</td>\n",
       "      <td>[]</td>\n",
       "    </tr>\n",
       "    <tr>\n",
       "      <td>울산</td>\n",
       "      <td>남구</td>\n",
       "    </tr>\n",
       "    <tr>\n",
       "      <td>인천</td>\n",
       "      <td>중구</td>\n",
       "    </tr>\n",
       "    <tr>\n",
       "      <td>전남</td>\n",
       "      <td>여수시</td>\n",
       "    </tr>\n",
       "    <tr>\n",
       "      <td>전북</td>\n",
       "      <td>전주시 완산구</td>\n",
       "    </tr>\n",
       "    <tr>\n",
       "      <td>제주</td>\n",
       "      <td>제주시</td>\n",
       "    </tr>\n",
       "    <tr>\n",
       "      <td>충남</td>\n",
       "      <td>천안시 동남구</td>\n",
       "    </tr>\n",
       "    <tr>\n",
       "      <td>충북</td>\n",
       "      <td>충주시</td>\n",
       "    </tr>\n",
       "  </tbody>\n",
       "</table>\n",
       "</div>"
      ],
      "text/plain": [
       "             CARD_CCG_NM\n",
       "CARD_SIDO_NM            \n",
       "강원                   강릉시\n",
       "경기               성남시 분당구\n",
       "경남                   김해시\n",
       "경북                   경주시\n",
       "광주                    서구\n",
       "대구                   수성구\n",
       "대전                   유성구\n",
       "부산                  해운대구\n",
       "서울                    중구\n",
       "세종                    []\n",
       "울산                    남구\n",
       "인천                    중구\n",
       "전남                   여수시\n",
       "전북               전주시 완산구\n",
       "제주                   제주시\n",
       "충남               천안시 동남구\n",
       "충북                   충주시"
      ]
     },
     "execution_count": 43,
     "metadata": {},
     "output_type": "execute_result"
    }
   ],
   "source": [
    "data.groupby('CARD_SIDO_NM')['CARD_CCG_NM'].agg(pd.Series.mode).to_frame()"
   ]
  },
  {
   "cell_type": "code",
   "execution_count": 44,
   "metadata": {},
   "outputs": [
    {
     "data": {
      "text/plain": [
       "세종    79477\n",
       "Name: CARD_SIDO_NM, dtype: int64"
      ]
     },
     "execution_count": 44,
     "metadata": {},
     "output_type": "execute_result"
    }
   ],
   "source": [
    "data.loc[data['CARD_CCG_NM'].isnull(),'CARD_SIDO_NM'].value_counts()"
   ]
  },
  {
   "cell_type": "markdown",
   "metadata": {},
   "source": [
    "CARD_SIDO_NM: 세종 ->  CARD_CCG_NM: 세종"
   ]
  },
  {
   "cell_type": "code",
   "execution_count": 45,
   "metadata": {},
   "outputs": [],
   "source": [
    "data.loc[data['CARD_SIDO_NM']=='세종','CARD_CCG_NM'] ='세종'"
   ]
  },
  {
   "cell_type": "code",
   "execution_count": 46,
   "metadata": {},
   "outputs": [
    {
     "data": {
      "text/plain": [
       "REG_YYMM        0\n",
       "CARD_SIDO_NM    0\n",
       "CARD_CCG_NM     0\n",
       "STD_CLSS_NM     0\n",
       "HOM_SIDO_NM     0\n",
       "HOM_CCG_NM      0\n",
       "AGE             0\n",
       "SEX_CTGO_CD     0\n",
       "FLC             0\n",
       "CSTMR_CNT       0\n",
       "AMT             0\n",
       "CNT             0\n",
       "dtype: int64"
      ]
     },
     "execution_count": 46,
     "metadata": {},
     "output_type": "execute_result"
    }
   ],
   "source": [
    "data.isnull().sum()"
   ]
  },
  {
   "cell_type": "markdown",
   "metadata": {},
   "source": [
    "## data cleansing"
   ]
  },
  {
   "cell_type": "code",
   "execution_count": 122,
   "metadata": {},
   "outputs": [],
   "source": [
    "# Month 추출 -> 월 특성에 따른 지출 다를 수 있음\n",
    "data['MM']=data['REG_YYMM'].apply(lambda x:str(x)[-2:]).astype(int)\n",
    "data['YY']=data['REG_YYMM'].apply(lambda x:str(x)[:4]).astype(int)"
   ]
  },
  {
   "cell_type": "code",
   "execution_count": 123,
   "metadata": {},
   "outputs": [],
   "source": [
    "corona =[202001,202002,202003]\n",
    "data.loc[data['REG_YYMM'].isin(corona),'CORONA'] = 1\n",
    "data.loc[~(data['REG_YYMM'].isin(corona)),'CORONA'] = 0"
   ]
  },
  {
   "cell_type": "code",
   "execution_count": 124,
   "metadata": {},
   "outputs": [],
   "source": [
    "data['CORONA']=data['CORONA'].astype(int)"
   ]
  },
  {
   "cell_type": "code",
   "execution_count": 134,
   "metadata": {},
   "outputs": [],
   "source": [
    "age=data['AGE']\n",
    "flc=data['FLC']\n",
    "data.loc[(age == '10s') & (flc==1),'Life_Style'] = 0\n",
    "data.loc[(age == '20s') & (flc==1),'Life_Style'] = 1\n",
    "data.loc[(age == '20s') & (flc==2),'Life_Style'] = 2\n",
    "data.loc[(age == '30s') & (flc==1),'Life_Style'] = 3\n",
    "data.loc[(age == '30s') & (flc==2),'Life_Style'] = 4\n",
    "data.loc[(age == '30s') & (flc==3),'Life_Style'] = 5\n",
    "data.loc[(age == '40s') & (flc==2),'Life_Style'] = 6\n",
    "data.loc[(age == '40s') & (flc==3),'Life_Style'] = 7\n",
    "data.loc[(age == '40s') & (flc==4),'Life_Style'] = 8\n",
    "data.loc[(age == '50s') & (flc==2),'Life_Style'] = 9\n",
    "data.loc[(age == '50s') & (flc==3),'Life_Style'] = 10\n",
    "data.loc[(age == '50s') & (flc==4),'Life_Style'] = 11\n",
    "data.loc[(age == '60s') & (flc==5),'Life_Style'] = 12\n",
    "data.loc[(age == '70s') & (flc==5),'Life_Style'] = 13"
   ]
  },
  {
   "cell_type": "code",
   "execution_count": 135,
   "metadata": {},
   "outputs": [
    {
     "data": {
      "text/html": [
       "<div>\n",
       "<style scoped>\n",
       "    .dataframe tbody tr th:only-of-type {\n",
       "        vertical-align: middle;\n",
       "    }\n",
       "\n",
       "    .dataframe tbody tr th {\n",
       "        vertical-align: top;\n",
       "    }\n",
       "\n",
       "    .dataframe thead th {\n",
       "        text-align: right;\n",
       "    }\n",
       "</style>\n",
       "<table border=\"1\" class=\"dataframe\">\n",
       "  <thead>\n",
       "    <tr style=\"text-align: right;\">\n",
       "      <th></th>\n",
       "      <th>REG_YYMM</th>\n",
       "      <th>CARD_SIDO_NM</th>\n",
       "      <th>CARD_CCG_NM</th>\n",
       "      <th>STD_CLSS_NM</th>\n",
       "      <th>HOM_SIDO_NM</th>\n",
       "      <th>HOM_CCG_NM</th>\n",
       "      <th>AGE</th>\n",
       "      <th>SEX_CTGO_CD</th>\n",
       "      <th>FLC</th>\n",
       "      <th>CSTMR_CNT</th>\n",
       "      <th>AMT</th>\n",
       "      <th>CNT</th>\n",
       "      <th>MM</th>\n",
       "      <th>YY</th>\n",
       "      <th>CORONA</th>\n",
       "      <th>Life_Style</th>\n",
       "    </tr>\n",
       "  </thead>\n",
       "  <tbody>\n",
       "  </tbody>\n",
       "</table>\n",
       "</div>"
      ],
      "text/plain": [
       "Empty DataFrame\n",
       "Columns: [REG_YYMM, CARD_SIDO_NM, CARD_CCG_NM, STD_CLSS_NM, HOM_SIDO_NM, HOM_CCG_NM, AGE, SEX_CTGO_CD, FLC, CSTMR_CNT, AMT, CNT, MM, YY, CORONA, Life_Style]\n",
       "Index: []"
      ]
     },
     "execution_count": 135,
     "metadata": {},
     "output_type": "execute_result"
    }
   ],
   "source": [
    "data[data['Life_Style'].isnull()]"
   ]
  },
  {
   "cell_type": "code",
   "execution_count": 136,
   "metadata": {},
   "outputs": [],
   "source": [
    "data['Life_Style']=data['Life_Style'].astype('int32')"
   ]
  },
  {
   "cell_type": "markdown",
   "metadata": {},
   "source": [
    "## Categorical data"
   ]
  },
  {
   "cell_type": "code",
   "execution_count": 137,
   "metadata": {},
   "outputs": [
    {
     "data": {
      "text/html": [
       "<div>\n",
       "<style scoped>\n",
       "    .dataframe tbody tr th:only-of-type {\n",
       "        vertical-align: middle;\n",
       "    }\n",
       "\n",
       "    .dataframe tbody tr th {\n",
       "        vertical-align: top;\n",
       "    }\n",
       "\n",
       "    .dataframe thead th {\n",
       "        text-align: right;\n",
       "    }\n",
       "</style>\n",
       "<table border=\"1\" class=\"dataframe\">\n",
       "  <thead>\n",
       "    <tr style=\"text-align: right;\">\n",
       "      <th></th>\n",
       "      <th>REG_YYMM</th>\n",
       "      <th>CARD_SIDO_NM</th>\n",
       "      <th>CARD_CCG_NM</th>\n",
       "      <th>STD_CLSS_NM</th>\n",
       "      <th>HOM_SIDO_NM</th>\n",
       "      <th>HOM_CCG_NM</th>\n",
       "      <th>AGE</th>\n",
       "      <th>SEX_CTGO_CD</th>\n",
       "      <th>FLC</th>\n",
       "      <th>CSTMR_CNT</th>\n",
       "      <th>AMT</th>\n",
       "      <th>CNT</th>\n",
       "      <th>MM</th>\n",
       "      <th>YY</th>\n",
       "      <th>CORONA</th>\n",
       "      <th>Life_Style</th>\n",
       "    </tr>\n",
       "  </thead>\n",
       "  <tbody>\n",
       "    <tr>\n",
       "      <td>0</td>\n",
       "      <td>201901</td>\n",
       "      <td>강원</td>\n",
       "      <td>강릉시</td>\n",
       "      <td>건강보조식품 소매업</td>\n",
       "      <td>강원</td>\n",
       "      <td>강릉시</td>\n",
       "      <td>20s</td>\n",
       "      <td>1</td>\n",
       "      <td>1</td>\n",
       "      <td>4</td>\n",
       "      <td>311200</td>\n",
       "      <td>4</td>\n",
       "      <td>1</td>\n",
       "      <td>2019</td>\n",
       "      <td>0</td>\n",
       "      <td>1</td>\n",
       "    </tr>\n",
       "  </tbody>\n",
       "</table>\n",
       "</div>"
      ],
      "text/plain": [
       "   REG_YYMM CARD_SIDO_NM CARD_CCG_NM STD_CLSS_NM HOM_SIDO_NM HOM_CCG_NM  AGE  \\\n",
       "0    201901           강원         강릉시  건강보조식품 소매업          강원        강릉시  20s   \n",
       "\n",
       "   SEX_CTGO_CD  FLC  CSTMR_CNT     AMT  CNT  MM    YY  CORONA  Life_Style  \n",
       "0            1    1          4  311200    4   1  2019       0           1  "
      ]
     },
     "execution_count": 137,
     "metadata": {},
     "output_type": "execute_result"
    }
   ],
   "source": [
    "data.head(1)"
   ]
  },
  {
   "cell_type": "code",
   "execution_count": 138,
   "metadata": {},
   "outputs": [
    {
     "name": "stdout",
     "output_type": "stream",
     "text": [
      "<class 'pandas.core.frame.DataFrame'>\n",
      "Int64Index: 24550005 entries, 0 to 24697791\n",
      "Data columns (total 16 columns):\n",
      "REG_YYMM        int64\n",
      "CARD_SIDO_NM    object\n",
      "CARD_CCG_NM     object\n",
      "STD_CLSS_NM     object\n",
      "HOM_SIDO_NM     object\n",
      "HOM_CCG_NM      object\n",
      "AGE             object\n",
      "SEX_CTGO_CD     int64\n",
      "FLC             int64\n",
      "CSTMR_CNT       int64\n",
      "AMT             int64\n",
      "CNT             int64\n",
      "MM              int32\n",
      "YY              int32\n",
      "CORONA          int32\n",
      "Life_Style      int32\n",
      "dtypes: int32(4), int64(6), object(6)\n",
      "memory usage: 2.7+ GB\n"
     ]
    }
   ],
   "source": [
    "data.info()"
   ]
  },
  {
   "cell_type": "code",
   "execution_count": 139,
   "metadata": {},
   "outputs": [
    {
     "data": {
      "text/plain": [
       "17"
      ]
     },
     "execution_count": 139,
     "metadata": {},
     "output_type": "execute_result"
    }
   ],
   "source": [
    "data['CARD_SIDO_NM'].nunique()"
   ]
  },
  {
   "cell_type": "code",
   "execution_count": 140,
   "metadata": {},
   "outputs": [
    {
     "data": {
      "text/plain": [
       "227"
      ]
     },
     "execution_count": 140,
     "metadata": {},
     "output_type": "execute_result"
    }
   ],
   "source": [
    "data['CARD_CCG_NM'].nunique()"
   ]
  },
  {
   "cell_type": "code",
   "execution_count": null,
   "metadata": {},
   "outputs": [],
   "source": []
  },
  {
   "cell_type": "code",
   "execution_count": 141,
   "metadata": {},
   "outputs": [],
   "source": [
    "label_data = data.copy()"
   ]
  },
  {
   "cell_type": "code",
   "execution_count": null,
   "metadata": {},
   "outputs": [],
   "source": []
  },
  {
   "cell_type": "code",
   "execution_count": 142,
   "metadata": {},
   "outputs": [],
   "source": [
    "from sklearn.preprocessing import LabelEncoder\n",
    "\n",
    "label_data = data.copy()\n",
    "label_encoder1 = LabelEncoder()\n",
    "label_encoder2 = LabelEncoder()\n",
    "label_encoder3 = LabelEncoder()\n",
    "label_encoder4 = LabelEncoder()\n",
    "label_encoder5 = LabelEncoder()\n",
    "label_encoder6 = LabelEncoder()\n",
    "\n",
    "label_data['CARD_CCG_NM'] = label_encoder1.fit_transform(data['CARD_CCG_NM'])\n",
    "label_data['CARD_SIDO_NM'] = label_encoder2.fit_transform(data['CARD_SIDO_NM'])\n",
    "label_data['HOM_CCG_NM'] = label_encoder3.fit_transform(data['HOM_CCG_NM'])\n",
    "label_data['HOM_SIDO_NM'] = label_encoder4.fit_transform(data['HOM_SIDO_NM'])\n",
    "label_data['HOM_SIDO_NM'] = label_encoder5.fit_transform(data['HOM_SIDO_NM'])\n",
    "label_data['STD_CLSS_NM'] = label_encoder6.fit_transform(data['STD_CLSS_NM'])"
   ]
  },
  {
   "cell_type": "code",
   "execution_count": 143,
   "metadata": {},
   "outputs": [
    {
     "data": {
      "text/html": [
       "<div>\n",
       "<style scoped>\n",
       "    .dataframe tbody tr th:only-of-type {\n",
       "        vertical-align: middle;\n",
       "    }\n",
       "\n",
       "    .dataframe tbody tr th {\n",
       "        vertical-align: top;\n",
       "    }\n",
       "\n",
       "    .dataframe thead th {\n",
       "        text-align: right;\n",
       "    }\n",
       "</style>\n",
       "<table border=\"1\" class=\"dataframe\">\n",
       "  <thead>\n",
       "    <tr style=\"text-align: right;\">\n",
       "      <th></th>\n",
       "      <th>REG_YYMM</th>\n",
       "      <th>CARD_SIDO_NM</th>\n",
       "      <th>CARD_CCG_NM</th>\n",
       "      <th>STD_CLSS_NM</th>\n",
       "      <th>HOM_SIDO_NM</th>\n",
       "      <th>HOM_CCG_NM</th>\n",
       "      <th>AGE</th>\n",
       "      <th>SEX_CTGO_CD</th>\n",
       "      <th>FLC</th>\n",
       "      <th>CSTMR_CNT</th>\n",
       "      <th>AMT</th>\n",
       "      <th>CNT</th>\n",
       "      <th>MM</th>\n",
       "      <th>YY</th>\n",
       "      <th>CORONA</th>\n",
       "      <th>Life_Style</th>\n",
       "    </tr>\n",
       "  </thead>\n",
       "  <tbody>\n",
       "    <tr>\n",
       "      <td>0</td>\n",
       "      <td>201901</td>\n",
       "      <td>0</td>\n",
       "      <td>3</td>\n",
       "      <td>0</td>\n",
       "      <td>0</td>\n",
       "      <td>3</td>\n",
       "      <td>20s</td>\n",
       "      <td>1</td>\n",
       "      <td>1</td>\n",
       "      <td>4</td>\n",
       "      <td>311200</td>\n",
       "      <td>4</td>\n",
       "      <td>1</td>\n",
       "      <td>2019</td>\n",
       "      <td>0</td>\n",
       "      <td>1</td>\n",
       "    </tr>\n",
       "    <tr>\n",
       "      <td>1</td>\n",
       "      <td>201901</td>\n",
       "      <td>0</td>\n",
       "      <td>3</td>\n",
       "      <td>0</td>\n",
       "      <td>0</td>\n",
       "      <td>3</td>\n",
       "      <td>30s</td>\n",
       "      <td>1</td>\n",
       "      <td>2</td>\n",
       "      <td>7</td>\n",
       "      <td>1374500</td>\n",
       "      <td>8</td>\n",
       "      <td>1</td>\n",
       "      <td>2019</td>\n",
       "      <td>0</td>\n",
       "      <td>4</td>\n",
       "    </tr>\n",
       "    <tr>\n",
       "      <td>2</td>\n",
       "      <td>201901</td>\n",
       "      <td>0</td>\n",
       "      <td>3</td>\n",
       "      <td>0</td>\n",
       "      <td>0</td>\n",
       "      <td>3</td>\n",
       "      <td>30s</td>\n",
       "      <td>2</td>\n",
       "      <td>2</td>\n",
       "      <td>6</td>\n",
       "      <td>818700</td>\n",
       "      <td>6</td>\n",
       "      <td>1</td>\n",
       "      <td>2019</td>\n",
       "      <td>0</td>\n",
       "      <td>4</td>\n",
       "    </tr>\n",
       "    <tr>\n",
       "      <td>3</td>\n",
       "      <td>201901</td>\n",
       "      <td>0</td>\n",
       "      <td>3</td>\n",
       "      <td>0</td>\n",
       "      <td>0</td>\n",
       "      <td>3</td>\n",
       "      <td>40s</td>\n",
       "      <td>1</td>\n",
       "      <td>3</td>\n",
       "      <td>4</td>\n",
       "      <td>1717000</td>\n",
       "      <td>5</td>\n",
       "      <td>1</td>\n",
       "      <td>2019</td>\n",
       "      <td>0</td>\n",
       "      <td>7</td>\n",
       "    </tr>\n",
       "    <tr>\n",
       "      <td>4</td>\n",
       "      <td>201901</td>\n",
       "      <td>0</td>\n",
       "      <td>3</td>\n",
       "      <td>0</td>\n",
       "      <td>0</td>\n",
       "      <td>3</td>\n",
       "      <td>40s</td>\n",
       "      <td>1</td>\n",
       "      <td>4</td>\n",
       "      <td>3</td>\n",
       "      <td>1047300</td>\n",
       "      <td>3</td>\n",
       "      <td>1</td>\n",
       "      <td>2019</td>\n",
       "      <td>0</td>\n",
       "      <td>8</td>\n",
       "    </tr>\n",
       "    <tr>\n",
       "      <td>...</td>\n",
       "      <td>...</td>\n",
       "      <td>...</td>\n",
       "      <td>...</td>\n",
       "      <td>...</td>\n",
       "      <td>...</td>\n",
       "      <td>...</td>\n",
       "      <td>...</td>\n",
       "      <td>...</td>\n",
       "      <td>...</td>\n",
       "      <td>...</td>\n",
       "      <td>...</td>\n",
       "      <td>...</td>\n",
       "      <td>...</td>\n",
       "      <td>...</td>\n",
       "      <td>...</td>\n",
       "      <td>...</td>\n",
       "    </tr>\n",
       "    <tr>\n",
       "      <td>24697787</td>\n",
       "      <td>202003</td>\n",
       "      <td>16</td>\n",
       "      <td>202</td>\n",
       "      <td>40</td>\n",
       "      <td>15</td>\n",
       "      <td>201</td>\n",
       "      <td>30s</td>\n",
       "      <td>1</td>\n",
       "      <td>2</td>\n",
       "      <td>3</td>\n",
       "      <td>43300</td>\n",
       "      <td>4</td>\n",
       "      <td>3</td>\n",
       "      <td>2020</td>\n",
       "      <td>1</td>\n",
       "      <td>4</td>\n",
       "    </tr>\n",
       "    <tr>\n",
       "      <td>24697788</td>\n",
       "      <td>202003</td>\n",
       "      <td>16</td>\n",
       "      <td>202</td>\n",
       "      <td>40</td>\n",
       "      <td>15</td>\n",
       "      <td>201</td>\n",
       "      <td>40s</td>\n",
       "      <td>1</td>\n",
       "      <td>3</td>\n",
       "      <td>3</td>\n",
       "      <td>35000</td>\n",
       "      <td>3</td>\n",
       "      <td>3</td>\n",
       "      <td>2020</td>\n",
       "      <td>1</td>\n",
       "      <td>7</td>\n",
       "    </tr>\n",
       "    <tr>\n",
       "      <td>24697789</td>\n",
       "      <td>202003</td>\n",
       "      <td>16</td>\n",
       "      <td>202</td>\n",
       "      <td>40</td>\n",
       "      <td>15</td>\n",
       "      <td>201</td>\n",
       "      <td>50s</td>\n",
       "      <td>1</td>\n",
       "      <td>4</td>\n",
       "      <td>4</td>\n",
       "      <td>188000</td>\n",
       "      <td>6</td>\n",
       "      <td>3</td>\n",
       "      <td>2020</td>\n",
       "      <td>1</td>\n",
       "      <td>11</td>\n",
       "    </tr>\n",
       "    <tr>\n",
       "      <td>24697790</td>\n",
       "      <td>202003</td>\n",
       "      <td>16</td>\n",
       "      <td>202</td>\n",
       "      <td>40</td>\n",
       "      <td>15</td>\n",
       "      <td>201</td>\n",
       "      <td>50s</td>\n",
       "      <td>2</td>\n",
       "      <td>4</td>\n",
       "      <td>4</td>\n",
       "      <td>99000</td>\n",
       "      <td>6</td>\n",
       "      <td>3</td>\n",
       "      <td>2020</td>\n",
       "      <td>1</td>\n",
       "      <td>11</td>\n",
       "    </tr>\n",
       "    <tr>\n",
       "      <td>24697791</td>\n",
       "      <td>202003</td>\n",
       "      <td>16</td>\n",
       "      <td>202</td>\n",
       "      <td>40</td>\n",
       "      <td>15</td>\n",
       "      <td>201</td>\n",
       "      <td>60s</td>\n",
       "      <td>1</td>\n",
       "      <td>5</td>\n",
       "      <td>3</td>\n",
       "      <td>194000</td>\n",
       "      <td>3</td>\n",
       "      <td>3</td>\n",
       "      <td>2020</td>\n",
       "      <td>1</td>\n",
       "      <td>12</td>\n",
       "    </tr>\n",
       "  </tbody>\n",
       "</table>\n",
       "<p>24550005 rows × 16 columns</p>\n",
       "</div>"
      ],
      "text/plain": [
       "          REG_YYMM  CARD_SIDO_NM  CARD_CCG_NM  STD_CLSS_NM  HOM_SIDO_NM  \\\n",
       "0           201901             0            3            0            0   \n",
       "1           201901             0            3            0            0   \n",
       "2           201901             0            3            0            0   \n",
       "3           201901             0            3            0            0   \n",
       "4           201901             0            3            0            0   \n",
       "...            ...           ...          ...          ...          ...   \n",
       "24697787    202003            16          202           40           15   \n",
       "24697788    202003            16          202           40           15   \n",
       "24697789    202003            16          202           40           15   \n",
       "24697790    202003            16          202           40           15   \n",
       "24697791    202003            16          202           40           15   \n",
       "\n",
       "          HOM_CCG_NM  AGE  SEX_CTGO_CD  FLC  CSTMR_CNT      AMT  CNT  MM  \\\n",
       "0                  3  20s            1    1          4   311200    4   1   \n",
       "1                  3  30s            1    2          7  1374500    8   1   \n",
       "2                  3  30s            2    2          6   818700    6   1   \n",
       "3                  3  40s            1    3          4  1717000    5   1   \n",
       "4                  3  40s            1    4          3  1047300    3   1   \n",
       "...              ...  ...          ...  ...        ...      ...  ...  ..   \n",
       "24697787         201  30s            1    2          3    43300    4   3   \n",
       "24697788         201  40s            1    3          3    35000    3   3   \n",
       "24697789         201  50s            1    4          4   188000    6   3   \n",
       "24697790         201  50s            2    4          4    99000    6   3   \n",
       "24697791         201  60s            1    5          3   194000    3   3   \n",
       "\n",
       "            YY  CORONA  Life_Style  \n",
       "0         2019       0           1  \n",
       "1         2019       0           4  \n",
       "2         2019       0           4  \n",
       "3         2019       0           7  \n",
       "4         2019       0           8  \n",
       "...        ...     ...         ...  \n",
       "24697787  2020       1           4  \n",
       "24697788  2020       1           7  \n",
       "24697789  2020       1          11  \n",
       "24697790  2020       1          11  \n",
       "24697791  2020       1          12  \n",
       "\n",
       "[24550005 rows x 16 columns]"
      ]
     },
     "execution_count": 143,
     "metadata": {},
     "output_type": "execute_result"
    }
   ],
   "source": [
    "label_data"
   ]
  },
  {
   "cell_type": "code",
   "execution_count": null,
   "metadata": {},
   "outputs": [],
   "source": []
  },
  {
   "cell_type": "code",
   "execution_count": null,
   "metadata": {},
   "outputs": [],
   "source": []
  },
  {
   "cell_type": "code",
   "execution_count": null,
   "metadata": {},
   "outputs": [],
   "source": []
  },
  {
   "cell_type": "code",
   "execution_count": null,
   "metadata": {},
   "outputs": [],
   "source": []
  },
  {
   "cell_type": "code",
   "execution_count": null,
   "metadata": {},
   "outputs": [],
   "source": []
  },
  {
   "cell_type": "code",
   "execution_count": null,
   "metadata": {},
   "outputs": [],
   "source": []
  },
  {
   "cell_type": "code",
   "execution_count": null,
   "metadata": {},
   "outputs": [],
   "source": []
  },
  {
   "cell_type": "code",
   "execution_count": 144,
   "metadata": {},
   "outputs": [],
   "source": [
    "from sklearn.metrics import mean_absolute_error\n",
    "from sklearn.model_selection import train_test_split"
   ]
  },
  {
   "cell_type": "code",
   "execution_count": 149,
   "metadata": {},
   "outputs": [],
   "source": [
    "yymm_list=[201901,201902,201903,202001,202002,202003,202004]\n",
    "label_data=label_data[label_data['REG_YYMM'].isin(yymm_list)]"
   ]
  },
  {
   "cell_type": "code",
   "execution_count": 150,
   "metadata": {},
   "outputs": [],
   "source": [
    "y = label_data['AMT']\n",
    "X = label_data[['CARD_SIDO_NM','CARD_CCG_NM','STD_CLSS_NM','SEX_CTGO_CD','CSTMR_CNT','CNT','MM','YY','Life_Style','CORONA']]"
   ]
  },
  {
   "cell_type": "code",
   "execution_count": 151,
   "metadata": {},
   "outputs": [],
   "source": [
    "train_X, val_X, train_y, val_y = train_test_split(X, y, random_state=1, test_size=0.2)"
   ]
  },
  {
   "cell_type": "code",
   "execution_count": null,
   "metadata": {},
   "outputs": [
    {
     "name": "stderr",
     "output_type": "stream",
     "text": [
      "C:\\Users\\user\\Anaconda3\\lib\\site-packages\\sklearn\\ensemble\\forest.py:245: FutureWarning: The default value of n_estimators will change from 10 in version 0.20 to 100 in 0.22.\n",
      "  \"10 in version 0.20 to 100 in 0.22.\", FutureWarning)\n"
     ]
    }
   ],
   "source": [
    "from sklearn.ensemble import RandomForestRegressor\n",
    "\n",
    "rf_model = RandomForestRegressor(random_state=1)\n",
    "rf_model.fit(train_X,train_y)\n",
    "rf_val_predictions = rf_model.predict(val_X)\n",
    "rf_val_mae = mean_absolute_error(rf_val_predictions, val_y)\n",
    "rf_val_mae = mean_absolute_error(rf_model.predict(val_X),val_y)\n",
    "\n",
    "print(\"Validation MAE for Random Forest Model: {}\".format(rf_val_mae))"
   ]
  },
  {
   "cell_type": "code",
   "execution_count": null,
   "metadata": {},
   "outputs": [],
   "source": []
  },
  {
   "cell_type": "code",
   "execution_count": 120,
   "metadata": {},
   "outputs": [
    {
     "data": {
      "text/plain": [
       "(24550005, 13)"
      ]
     },
     "execution_count": 120,
     "metadata": {},
     "output_type": "execute_result"
    }
   ],
   "source": [
    "data.shape"
   ]
  },
  {
   "cell_type": "code",
   "execution_count": null,
   "metadata": {},
   "outputs": [],
   "source": []
  },
  {
   "cell_type": "code",
   "execution_count": null,
   "metadata": {},
   "outputs": [],
   "source": []
  },
  {
   "cell_type": "code",
   "execution_count": null,
   "metadata": {},
   "outputs": [],
   "source": []
  }
 ],
 "metadata": {
  "kernelspec": {
   "display_name": "Python 3",
   "language": "python",
   "name": "python3"
  },
  "language_info": {
   "codemirror_mode": {
    "name": "ipython",
    "version": 3
   },
   "file_extension": ".py",
   "mimetype": "text/x-python",
   "name": "python",
   "nbconvert_exporter": "python",
   "pygments_lexer": "ipython3",
   "version": "3.7.4"
  }
 },
 "nbformat": 4,
 "nbformat_minor": 2
}
