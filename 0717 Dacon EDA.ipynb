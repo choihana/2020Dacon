{
 "cells": [
  {
   "cell_type": "code",
   "execution_count": 1,
   "metadata": {},
   "outputs": [],
   "source": [
    "import pandas as pd\n",
    "import numpy as np\n",
    "import matplotlib.pyplot as plt\n",
    "from IPython.display import set_matplotlib_formats\n",
    "import seaborn as sns\n",
    "\n",
    "#FONT\n",
    "# Mac OS: AppleGothic\n",
    "# Window:'NanumGothic' or 'Malgun Gothic'\n",
    "plt.rc('font', family='Malgun Gothic')\n",
    "# mpl.rc('font', family='NanumGothic')\n",
    "\n",
    "# 별도로, 폰트를 바꿀 경우 마이너스가 표시되지 않는 경우도 있는데 이를 막아주는 코드입니다.\n",
    "plt.rc('axes', unicode_minus=False)\n",
    "\n",
    "# retina 옵션을 통해 해상도를 올립니다.\n",
    "set_matplotlib_formats('retina')"
   ]
  },
  {
   "cell_type": "code",
   "execution_count": 2,
   "metadata": {},
   "outputs": [],
   "source": [
    "data=pd.read_csv(\"../../data/201901-202003.csv\",encoding='utf-8')"
   ]
  },
  {
   "cell_type": "code",
   "execution_count": 3,
   "metadata": {},
   "outputs": [],
   "source": [
    "# 데이터 프레임 MAX 표시\n",
    "pd.set_option('display.max_rows', 500)\n",
    "pd.set_option('display.max_columns', 100)"
   ]
  },
  {
   "cell_type": "markdown",
   "metadata": {},
   "source": [
    "## Data Info"
   ]
  },
  {
   "cell_type": "code",
   "execution_count": 7,
   "metadata": {},
   "outputs": [
    {
     "data": {
      "text/plain": [
       "(24697792, 12)"
      ]
     },
     "execution_count": 7,
     "metadata": {},
     "output_type": "execute_result"
    }
   ],
   "source": [
    "# row, columns size\n",
    "data.shape"
   ]
  },
  {
   "cell_type": "code",
   "execution_count": 8,
   "metadata": {},
   "outputs": [
    {
     "name": "stdout",
     "output_type": "stream",
     "text": [
      "<class 'pandas.core.frame.DataFrame'>\n",
      "RangeIndex: 24697792 entries, 0 to 24697791\n",
      "Data columns (total 12 columns):\n",
      "REG_YYMM        int64\n",
      "CARD_SIDO_NM    object\n",
      "CARD_CCG_NM     object\n",
      "STD_CLSS_NM     object\n",
      "HOM_SIDO_NM     object\n",
      "HOM_CCG_NM      object\n",
      "AGE             object\n",
      "SEX_CTGO_CD     int64\n",
      "FLC             int64\n",
      "CSTMR_CNT       int64\n",
      "AMT             int64\n",
      "CNT             int64\n",
      "dtypes: int64(6), object(6)\n",
      "memory usage: 2.2+ GB\n"
     ]
    }
   ],
   "source": [
    "# data type\n",
    "data.info()"
   ]
  },
  {
   "cell_type": "code",
   "execution_count": 9,
   "metadata": {},
   "outputs": [
    {
     "data": {
      "text/html": [
       "<div>\n",
       "<style scoped>\n",
       "    .dataframe tbody tr th:only-of-type {\n",
       "        vertical-align: middle;\n",
       "    }\n",
       "\n",
       "    .dataframe tbody tr th {\n",
       "        vertical-align: top;\n",
       "    }\n",
       "\n",
       "    .dataframe thead th {\n",
       "        text-align: right;\n",
       "    }\n",
       "</style>\n",
       "<table border=\"1\" class=\"dataframe\">\n",
       "  <thead>\n",
       "    <tr style=\"text-align: right;\">\n",
       "      <th></th>\n",
       "      <th>REG_YYMM</th>\n",
       "      <th>CARD_SIDO_NM</th>\n",
       "      <th>CARD_CCG_NM</th>\n",
       "      <th>STD_CLSS_NM</th>\n",
       "      <th>HOM_SIDO_NM</th>\n",
       "      <th>HOM_CCG_NM</th>\n",
       "      <th>AGE</th>\n",
       "      <th>SEX_CTGO_CD</th>\n",
       "      <th>FLC</th>\n",
       "      <th>CSTMR_CNT</th>\n",
       "      <th>AMT</th>\n",
       "      <th>CNT</th>\n",
       "    </tr>\n",
       "  </thead>\n",
       "  <tbody>\n",
       "    <tr>\n",
       "      <td>0</td>\n",
       "      <td>201901</td>\n",
       "      <td>강원</td>\n",
       "      <td>강릉시</td>\n",
       "      <td>건강보조식품 소매업</td>\n",
       "      <td>강원</td>\n",
       "      <td>강릉시</td>\n",
       "      <td>20s</td>\n",
       "      <td>1</td>\n",
       "      <td>1</td>\n",
       "      <td>4</td>\n",
       "      <td>311200</td>\n",
       "      <td>4</td>\n",
       "    </tr>\n",
       "    <tr>\n",
       "      <td>1</td>\n",
       "      <td>201901</td>\n",
       "      <td>강원</td>\n",
       "      <td>강릉시</td>\n",
       "      <td>건강보조식품 소매업</td>\n",
       "      <td>강원</td>\n",
       "      <td>강릉시</td>\n",
       "      <td>30s</td>\n",
       "      <td>1</td>\n",
       "      <td>2</td>\n",
       "      <td>7</td>\n",
       "      <td>1374500</td>\n",
       "      <td>8</td>\n",
       "    </tr>\n",
       "    <tr>\n",
       "      <td>2</td>\n",
       "      <td>201901</td>\n",
       "      <td>강원</td>\n",
       "      <td>강릉시</td>\n",
       "      <td>건강보조식품 소매업</td>\n",
       "      <td>강원</td>\n",
       "      <td>강릉시</td>\n",
       "      <td>30s</td>\n",
       "      <td>2</td>\n",
       "      <td>2</td>\n",
       "      <td>6</td>\n",
       "      <td>818700</td>\n",
       "      <td>6</td>\n",
       "    </tr>\n",
       "    <tr>\n",
       "      <td>3</td>\n",
       "      <td>201901</td>\n",
       "      <td>강원</td>\n",
       "      <td>강릉시</td>\n",
       "      <td>건강보조식품 소매업</td>\n",
       "      <td>강원</td>\n",
       "      <td>강릉시</td>\n",
       "      <td>40s</td>\n",
       "      <td>1</td>\n",
       "      <td>3</td>\n",
       "      <td>4</td>\n",
       "      <td>1717000</td>\n",
       "      <td>5</td>\n",
       "    </tr>\n",
       "    <tr>\n",
       "      <td>4</td>\n",
       "      <td>201901</td>\n",
       "      <td>강원</td>\n",
       "      <td>강릉시</td>\n",
       "      <td>건강보조식품 소매업</td>\n",
       "      <td>강원</td>\n",
       "      <td>강릉시</td>\n",
       "      <td>40s</td>\n",
       "      <td>1</td>\n",
       "      <td>4</td>\n",
       "      <td>3</td>\n",
       "      <td>1047300</td>\n",
       "      <td>3</td>\n",
       "    </tr>\n",
       "  </tbody>\n",
       "</table>\n",
       "</div>"
      ],
      "text/plain": [
       "   REG_YYMM CARD_SIDO_NM CARD_CCG_NM STD_CLSS_NM HOM_SIDO_NM HOM_CCG_NM  AGE  \\\n",
       "0    201901           강원         강릉시  건강보조식품 소매업          강원        강릉시  20s   \n",
       "1    201901           강원         강릉시  건강보조식품 소매업          강원        강릉시  30s   \n",
       "2    201901           강원         강릉시  건강보조식품 소매업          강원        강릉시  30s   \n",
       "3    201901           강원         강릉시  건강보조식품 소매업          강원        강릉시  40s   \n",
       "4    201901           강원         강릉시  건강보조식품 소매업          강원        강릉시  40s   \n",
       "\n",
       "   SEX_CTGO_CD  FLC  CSTMR_CNT      AMT  CNT  \n",
       "0            1    1          4   311200    4  \n",
       "1            1    2          7  1374500    8  \n",
       "2            2    2          6   818700    6  \n",
       "3            1    3          4  1717000    5  \n",
       "4            1    4          3  1047300    3  "
      ]
     },
     "execution_count": 9,
     "metadata": {},
     "output_type": "execute_result"
    }
   ],
   "source": [
    "data.head()"
   ]
  },
  {
   "cell_type": "markdown",
   "metadata": {},
   "source": [
    "### 변수 설명 \n",
    "\n",
    "- REG_YYMM :년월\n",
    "- CARD_SIDO_NM : 카드이용지역_시도 (가맹점 주소 기준)\n",
    "- CARD_CCG_NM : 카드이용지역_시군구 (가맹점 주소 기준)\n",
    "- STD_CLSS_NM : 업종명\n",
    "- HOM_SIDO_NM : 거주지역_시도 (고객 집주소 기준)\n",
    "- HOM_CCG_NM : 거주지역_시군구 (고객 집주소 기준)\n",
    "- AGE: 연령대\n",
    "- SEX_CTGO_CD : 성별 (1: 남성, 2: 여성)\n",
    "- FLC : 가구생애주기 (1: 1인가구, 2: 영유아자녀가구, 3: 중고생자녀가구, 4: 성인자녀가구, 5: 노년가구)\n",
    "- CSTMR_CNT : 이용고객수 (명)\n",
    "- AMT : 이용금액 (원) - 종속변수\n",
    "- CNT : 이용건수 (건)\n",
    "\n",
    "** 주의: 이미 한 번 통계를 거친 자료\n",
    "\n",
    "0 번째 row 풀이 - 2019년 1월, 강원 강릉시 건강보조식품 소매업종 에서 강원 강릉시에 거주하는 20대 1인가구 남성 4명이 총 311,200원을 결제했고 결제 건수는 4건이었다. (각각 한번씩 결제)"
   ]
  },
  {
   "cell_type": "code",
   "execution_count": 12,
   "metadata": {},
   "outputs": [
    {
     "data": {
      "text/html": [
       "<div>\n",
       "<style scoped>\n",
       "    .dataframe tbody tr th:only-of-type {\n",
       "        vertical-align: middle;\n",
       "    }\n",
       "\n",
       "    .dataframe tbody tr th {\n",
       "        vertical-align: top;\n",
       "    }\n",
       "\n",
       "    .dataframe thead th {\n",
       "        text-align: right;\n",
       "    }\n",
       "</style>\n",
       "<table border=\"1\" class=\"dataframe\">\n",
       "  <thead>\n",
       "    <tr style=\"text-align: right;\">\n",
       "      <th></th>\n",
       "      <th>REG_YYMM</th>\n",
       "      <th>CARD_SIDO_NM</th>\n",
       "      <th>CARD_CCG_NM</th>\n",
       "      <th>STD_CLSS_NM</th>\n",
       "      <th>HOM_SIDO_NM</th>\n",
       "      <th>HOM_CCG_NM</th>\n",
       "      <th>AGE</th>\n",
       "      <th>SEX_CTGO_CD</th>\n",
       "      <th>FLC</th>\n",
       "      <th>CSTMR_CNT</th>\n",
       "      <th>AMT</th>\n",
       "      <th>CNT</th>\n",
       "    </tr>\n",
       "  </thead>\n",
       "  <tbody>\n",
       "  </tbody>\n",
       "</table>\n",
       "</div>"
      ],
      "text/plain": [
       "Empty DataFrame\n",
       "Columns: [REG_YYMM, CARD_SIDO_NM, CARD_CCG_NM, STD_CLSS_NM, HOM_SIDO_NM, HOM_CCG_NM, AGE, SEX_CTGO_CD, FLC, CSTMR_CNT, AMT, CNT]\n",
       "Index: []"
      ]
     },
     "execution_count": 12,
     "metadata": {},
     "output_type": "execute_result"
    }
   ],
   "source": [
    "# 중복된 row  확인 -> 중복 없음 \n",
    "data[data.duplicated()]"
   ]
  },
  {
   "cell_type": "markdown",
   "metadata": {},
   "source": [
    "### Null값 확인\n",
    "\n",
    "[Null 값 row 비율]\n",
    "\n",
    "- 카드이용지역_시군구 0.3%\n",
    "- 거주지역_ 시군구 0.6%"
   ]
  },
  {
   "cell_type": "code",
   "execution_count": 22,
   "metadata": {},
   "outputs": [
    {
     "data": {
      "text/plain": [
       "REG_YYMM        0.00\n",
       "CARD_SIDO_NM    0.00\n",
       "CARD_CCG_NM     0.35\n",
       "STD_CLSS_NM     0.00\n",
       "HOM_SIDO_NM     0.00\n",
       "HOM_CCG_NM      0.60\n",
       "AGE             0.00\n",
       "SEX_CTGO_CD     0.00\n",
       "FLC             0.00\n",
       "CSTMR_CNT       0.00\n",
       "AMT             0.00\n",
       "CNT             0.00\n",
       "dtype: float64"
      ]
     },
     "execution_count": 22,
     "metadata": {},
     "output_type": "execute_result"
    }
   ],
   "source": [
    "round(data.isnull().sum()/len(data) *100,2)"
   ]
  },
  {
   "cell_type": "code",
   "execution_count": 14,
   "metadata": {},
   "outputs": [
    {
     "data": {
      "text/plain": [
       "<matplotlib.axes._subplots.AxesSubplot at 0x1dd9ed5f688>"
      ]
     },
     "execution_count": 14,
     "metadata": {},
     "output_type": "execute_result"
    },
    {
     "data": {
      "image/png": "[encoded data removed]",
      "text/plain": [
       "<Figure size 1800x720 with 2 Axes>"
      ]
     },
     "metadata": {
      "needs_background": "light"
     },
     "output_type": "display_data"
    }
   ],
   "source": [
    "import missingno as msno\n",
    "\n",
    "msno.matrix(data)"
   ]
  },
  {
   "cell_type": "markdown",
   "metadata": {},
   "source": [
    "### Null 값 처리\n",
    "\n",
    "- 각 주소지 시도 별로 가장 많이 발생하는 군 추출하여 null 값에 해당 값으로 대체하려고 했으나, 세종시에서 값이 없는 것을 확인\n",
    "- null 값인 결제/ 거주지 시도는 세종밖에 없음 \n",
    "- 따라서 결제/거주지 시도 세종인 결제/거주지 시군구를 세종으로 통일하여 값 넣어준다."
   ]
  },
  {
   "cell_type": "code",
   "execution_count": 23,
   "metadata": {
    "scrolled": true
   },
   "outputs": [
    {
     "data": {
      "text/html": [
       "<div>\n",
       "<style scoped>\n",
       "    .dataframe tbody tr th:only-of-type {\n",
       "        vertical-align: middle;\n",
       "    }\n",
       "\n",
       "    .dataframe tbody tr th {\n",
       "        vertical-align: top;\n",
       "    }\n",
       "\n",
       "    .dataframe thead th {\n",
       "        text-align: right;\n",
       "    }\n",
       "</style>\n",
       "<table border=\"1\" class=\"dataframe\">\n",
       "  <thead>\n",
       "    <tr style=\"text-align: right;\">\n",
       "      <th></th>\n",
       "      <th>HOM_CCG_NM</th>\n",
       "    </tr>\n",
       "    <tr>\n",
       "      <th>HOM_SIDO_NM</th>\n",
       "      <th></th>\n",
       "    </tr>\n",
       "  </thead>\n",
       "  <tbody>\n",
       "    <tr>\n",
       "      <td>강원</td>\n",
       "      <td>원주시</td>\n",
       "    </tr>\n",
       "    <tr>\n",
       "      <td>경기</td>\n",
       "      <td>화성시</td>\n",
       "    </tr>\n",
       "    <tr>\n",
       "      <td>경남</td>\n",
       "      <td>김해시</td>\n",
       "    </tr>\n",
       "    <tr>\n",
       "      <td>경북</td>\n",
       "      <td>구미시</td>\n",
       "    </tr>\n",
       "    <tr>\n",
       "      <td>광주</td>\n",
       "      <td>북구</td>\n",
       "    </tr>\n",
       "    <tr>\n",
       "      <td>대구</td>\n",
       "      <td>달서구</td>\n",
       "    </tr>\n",
       "    <tr>\n",
       "      <td>대전</td>\n",
       "      <td>서구</td>\n",
       "    </tr>\n",
       "    <tr>\n",
       "      <td>부산</td>\n",
       "      <td>해운대구</td>\n",
       "    </tr>\n",
       "    <tr>\n",
       "      <td>서울</td>\n",
       "      <td>강남구</td>\n",
       "    </tr>\n",
       "    <tr>\n",
       "      <td>세종</td>\n",
       "      <td>[]</td>\n",
       "    </tr>\n",
       "    <tr>\n",
       "      <td>울산</td>\n",
       "      <td>남구</td>\n",
       "    </tr>\n",
       "    <tr>\n",
       "      <td>인천</td>\n",
       "      <td>부평구</td>\n",
       "    </tr>\n",
       "    <tr>\n",
       "      <td>전남</td>\n",
       "      <td>순천시</td>\n",
       "    </tr>\n",
       "    <tr>\n",
       "      <td>전북</td>\n",
       "      <td>전주시 완산구</td>\n",
       "    </tr>\n",
       "    <tr>\n",
       "      <td>제주</td>\n",
       "      <td>제주시</td>\n",
       "    </tr>\n",
       "    <tr>\n",
       "      <td>충남</td>\n",
       "      <td>천안시 서북구</td>\n",
       "    </tr>\n",
       "    <tr>\n",
       "      <td>충북</td>\n",
       "      <td>청주시 흥덕구</td>\n",
       "    </tr>\n",
       "  </tbody>\n",
       "</table>\n",
       "</div>"
      ],
      "text/plain": [
       "            HOM_CCG_NM\n",
       "HOM_SIDO_NM           \n",
       "강원                 원주시\n",
       "경기                 화성시\n",
       "경남                 김해시\n",
       "경북                 구미시\n",
       "광주                  북구\n",
       "대구                 달서구\n",
       "대전                  서구\n",
       "부산                해운대구\n",
       "서울                 강남구\n",
       "세종                  []\n",
       "울산                  남구\n",
       "인천                 부평구\n",
       "전남                 순천시\n",
       "전북             전주시 완산구\n",
       "제주                 제주시\n",
       "충남             천안시 서북구\n",
       "충북             청주시 흥덕구"
      ]
     },
     "execution_count": 23,
     "metadata": {},
     "output_type": "execute_result"
    }
   ],
   "source": [
    "data.groupby('HOM_SIDO_NM')['HOM_CCG_NM'].agg(pd.Series.mode).to_frame()"
   ]
  },
  {
   "cell_type": "code",
   "execution_count": 24,
   "metadata": {},
   "outputs": [
    {
     "data": {
      "text/plain": [
       "세종    147787\n",
       "Name: HOM_SIDO_NM, dtype: int64"
      ]
     },
     "execution_count": 24,
     "metadata": {},
     "output_type": "execute_result"
    }
   ],
   "source": [
    "data.loc[data['HOM_CCG_NM'].isnull(),'HOM_SIDO_NM'].value_counts()"
   ]
  },
  {
   "cell_type": "code",
   "execution_count": 25,
   "metadata": {
    "scrolled": true
   },
   "outputs": [
    {
     "data": {
      "text/html": [
       "<div>\n",
       "<style scoped>\n",
       "    .dataframe tbody tr th:only-of-type {\n",
       "        vertical-align: middle;\n",
       "    }\n",
       "\n",
       "    .dataframe tbody tr th {\n",
       "        vertical-align: top;\n",
       "    }\n",
       "\n",
       "    .dataframe thead th {\n",
       "        text-align: right;\n",
       "    }\n",
       "</style>\n",
       "<table border=\"1\" class=\"dataframe\">\n",
       "  <thead>\n",
       "    <tr style=\"text-align: right;\">\n",
       "      <th></th>\n",
       "      <th>CARD_CCG_NM</th>\n",
       "    </tr>\n",
       "    <tr>\n",
       "      <th>CARD_SIDO_NM</th>\n",
       "      <th></th>\n",
       "    </tr>\n",
       "  </thead>\n",
       "  <tbody>\n",
       "    <tr>\n",
       "      <td>강원</td>\n",
       "      <td>강릉시</td>\n",
       "    </tr>\n",
       "    <tr>\n",
       "      <td>경기</td>\n",
       "      <td>성남시 분당구</td>\n",
       "    </tr>\n",
       "    <tr>\n",
       "      <td>경남</td>\n",
       "      <td>김해시</td>\n",
       "    </tr>\n",
       "    <tr>\n",
       "      <td>경북</td>\n",
       "      <td>경주시</td>\n",
       "    </tr>\n",
       "    <tr>\n",
       "      <td>광주</td>\n",
       "      <td>서구</td>\n",
       "    </tr>\n",
       "    <tr>\n",
       "      <td>대구</td>\n",
       "      <td>수성구</td>\n",
       "    </tr>\n",
       "    <tr>\n",
       "      <td>대전</td>\n",
       "      <td>유성구</td>\n",
       "    </tr>\n",
       "    <tr>\n",
       "      <td>부산</td>\n",
       "      <td>해운대구</td>\n",
       "    </tr>\n",
       "    <tr>\n",
       "      <td>서울</td>\n",
       "      <td>중구</td>\n",
       "    </tr>\n",
       "    <tr>\n",
       "      <td>세종</td>\n",
       "      <td>[]</td>\n",
       "    </tr>\n",
       "    <tr>\n",
       "      <td>울산</td>\n",
       "      <td>남구</td>\n",
       "    </tr>\n",
       "    <tr>\n",
       "      <td>인천</td>\n",
       "      <td>중구</td>\n",
       "    </tr>\n",
       "    <tr>\n",
       "      <td>전남</td>\n",
       "      <td>여수시</td>\n",
       "    </tr>\n",
       "    <tr>\n",
       "      <td>전북</td>\n",
       "      <td>전주시 완산구</td>\n",
       "    </tr>\n",
       "    <tr>\n",
       "      <td>제주</td>\n",
       "      <td>제주시</td>\n",
       "    </tr>\n",
       "    <tr>\n",
       "      <td>충남</td>\n",
       "      <td>천안시 동남구</td>\n",
       "    </tr>\n",
       "    <tr>\n",
       "      <td>충북</td>\n",
       "      <td>청주시 흥덕구</td>\n",
       "    </tr>\n",
       "  </tbody>\n",
       "</table>\n",
       "</div>"
      ],
      "text/plain": [
       "             CARD_CCG_NM\n",
       "CARD_SIDO_NM            \n",
       "강원                   강릉시\n",
       "경기               성남시 분당구\n",
       "경남                   김해시\n",
       "경북                   경주시\n",
       "광주                    서구\n",
       "대구                   수성구\n",
       "대전                   유성구\n",
       "부산                  해운대구\n",
       "서울                    중구\n",
       "세종                    []\n",
       "울산                    남구\n",
       "인천                    중구\n",
       "전남                   여수시\n",
       "전북               전주시 완산구\n",
       "제주                   제주시\n",
       "충남               천안시 동남구\n",
       "충북               청주시 흥덕구"
      ]
     },
     "execution_count": 25,
     "metadata": {},
     "output_type": "execute_result"
    }
   ],
   "source": [
    "data.groupby('CARD_SIDO_NM')['CARD_CCG_NM'].agg(pd.Series.mode).to_frame()"
   ]
  },
  {
   "cell_type": "code",
   "execution_count": 26,
   "metadata": {},
   "outputs": [
    {
     "data": {
      "text/plain": [
       "세종    87213\n",
       "Name: CARD_SIDO_NM, dtype: int64"
      ]
     },
     "execution_count": 26,
     "metadata": {},
     "output_type": "execute_result"
    }
   ],
   "source": [
    "data.loc[data['CARD_CCG_NM'].isnull(),'CARD_SIDO_NM'].value_counts()"
   ]
  },
  {
   "cell_type": "code",
   "execution_count": 27,
   "metadata": {},
   "outputs": [],
   "source": [
    "data.loc[data['CARD_SIDO_NM']=='세종','CARD_CCG_NM'] ='세종'\n",
    "data.loc[data['HOM_SIDO_NM']=='세종','HOM_CCG_NM'] ='세종'"
   ]
  },
  {
   "cell_type": "markdown",
   "metadata": {},
   "source": [
    "### Column 간 상관관계 확인"
   ]
  },
  {
   "cell_type": "code",
   "execution_count": 17,
   "metadata": {},
   "outputs": [],
   "source": [
    "# 상관관계 확인을 위해 \n",
    "from sklearn.preprocessing import LabelEncoder\n",
    "\n",
    "data_corr = data.copy()\n",
    "data_corr.dropna(inplace=True)\n",
    "s = (data_corr.dtypes == 'object')\n",
    "object_cols = list(s[s].index)\n",
    "\n",
    "label_encoder = LabelEncoder()\n",
    "for col in object_cols:\n",
    "    data_corr[col] = label_encoder.fit_transform(data_corr[col])"
   ]
  },
  {
   "cell_type": "markdown",
   "metadata": {},
   "source": []
  },
  {
   "cell_type": "code",
   "execution_count": 28,
   "metadata": {
    "scrolled": true
   },
   "outputs": [
    {
     "data": {
      "text/plain": [
       "<matplotlib.axes._subplots.AxesSubplot at 0x1dda066cc08>"
      ]
     },
     "execution_count": 28,
     "metadata": {},
     "output_type": "execute_result"
    },
    {
     "data": {
      "image/png": "[encoded data removed]",
      "text/plain": [
       "<Figure size 864x864 with 2 Axes>"
      ]
     },
     "metadata": {
      "needs_background": "light"
     },
     "output_type": "display_data"
    }
   ],
   "source": [
    "plt.figure(figsize=(12,12))\n",
    "sns.heatmap(data_corr.corr(), annot=True)"
   ]
  },
  {
   "cell_type": "markdown",
   "metadata": {},
   "source": [
    "AMT 와 관계 높은 것 : CSTMR_CNT,CNT,FLC, AGE\n",
    "AMT 와 관계 낮은 것 : SEX_CTGO_CD, HOM_CCG_NM,HOM_SIDO_NM\n",
    "\n",
    "HOM_SIDO_NM 과 CARD_SIDO_NM 연관성 높지만 꼭 일치하는 것은 아님\n",
    "\n",
    "AGE 와 FLC 관계 높음 -> 연령대 별로 가구형태 패턴이 있는걸까?"
   ]
  },
  {
   "cell_type": "code",
   "execution_count": null,
   "metadata": {},
   "outputs": [],
   "source": []
  }
 ],
 "metadata": {
  "kernelspec": {
   "display_name": "Python 3",
   "language": "python",
   "name": "python3"
  },
  "language_info": {
   "codemirror_mode": {
    "name": "ipython",
    "version": 3
   },
   "file_extension": ".py",
   "mimetype": "text/x-python",
   "name": "python",
   "nbconvert_exporter": "python",
   "pygments_lexer": "ipython3",
   "version": "3.7.4"
  }
 },
 "nbformat": 4,
 "nbformat_minor": 2
}
